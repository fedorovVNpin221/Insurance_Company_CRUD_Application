{
 "cells": [
  {
   "cell_type": "markdown",
   "id": "d270ba94-385d-413f-b356-757634ce0bfd",
   "metadata": {},
   "source": [
    "<h1>Курсовая работа</h1>\n",
    "<h2>за 5 семестр</h2>\n",
    "<h2>по теме: \"Разработка CRUD-приложения на Python с использованием \n",
    "    SQLAlchemy ORM и SQLite\"</h2>\n",
    "<h2>Предметная область: \"Страховая компания\"</h2>\n",
    "<h3>Выполнил: студент 3-го курса гр. ПИН-221 Федоров Вячеслав</h3>"
   ]
  },
  {
   "cell_type": "markdown",
   "id": "e0ac035d-0812-4ef2-a3a6-6806499136da",
   "metadata": {},
   "source": [
    "<h4>1 Подключение к SQLite и подготовка окружения</h4>"
   ]
  },
  {
   "cell_type": "markdown",
   "id": "1d7ab159-187f-4021-b44e-ec4f0e4361b5",
   "metadata": {},
   "source": [
    "Подключение необходимых библиотек"
   ]
  },
  {
   "cell_type": "code",
   "execution_count": 1,
   "id": "aa8978bd-85f4-4670-abd3-e6bc0f45a8c1",
   "metadata": {},
   "outputs": [],
   "source": [
    "from sqlalchemy import create_engine, Column, Integer, String, ForeignKey, Date, Float\n",
    "from sqlalchemy import func, case, desc, and_, extract\n",
    "from sqlalchemy.orm import declarative_base, relationship, sessionmaker\n",
    "from datetime import datetime, timedelta\n",
    "from faker import Faker\n",
    "import random\n",
    "from sqlalchemy.exc import SQLAlchemyError\n",
    "from tabulate import tabulate"
   ]
  },
  {
   "cell_type": "markdown",
   "id": "9279c72f-958e-4290-aa2b-4d593dba3894",
   "metadata": {},
   "source": [
    "Подключение к SQLite с автоматическим созданием файла БД"
   ]
  },
  {
   "cell_type": "code",
   "execution_count": 2,
   "id": "5de7771c-fa6a-450a-8eef-020e0f210258",
   "metadata": {},
   "outputs": [
    {
     "name": "stdout",
     "output_type": "stream",
     "text": [
      "Подлкючение к SQLite произведено успешно!\n"
     ]
    }
   ],
   "source": [
    "databaseName = 'insurance_company'\n",
    "\n",
    "# основные настройки БД\n",
    "engine = create_engine(f'sqlite:///{databaseName}.db')\n",
    "Base = declarative_base()\n",
    "Session = sessionmaker(bind=engine)\n",
    "session = Session()\n",
    "\n",
    "Base = declarative_base()\n",
    "\n",
    "# проверка подключения\n",
    "try:\n",
    "    with engine.connect() as conn:\n",
    "        print(\"Подлкючение к SQLite произведено успешно!\")\n",
    "except Exception as e:\n",
    "    print(f\"Ошибка подключения: {e}\")"
   ]
  },
  {
   "cell_type": "markdown",
   "id": "6cf923ce",
   "metadata": {},
   "source": [
    "<h4>2 Создание схемы базы данных</h4>"
   ]
  },
  {
   "cell_type": "markdown",
   "id": "34037dce",
   "metadata": {},
   "source": [
    "Создание класса \"Filial\""
   ]
  },
  {
   "cell_type": "code",
   "execution_count": 3,
   "id": "7b6ed534",
   "metadata": {},
   "outputs": [],
   "source": [
    "class Filial(Base):\n",
    "    __tablename__ = 'filial' \n",
    "\n",
    "    idFilial = Column(Integer, primary_key=True)\n",
    "    title = Column(String)  \n",
    "    address = Column(String)\n",
    "    phoneNumber = Column(String)\n",
    "\n",
    "    # Связь с агентами и договорами (один ко многим)\n",
    "    agents = relationship(\"Agent\", back_populates=\"filial\")\n",
    "    belays = relationship(\"Belay\", back_populates=\"filial\")\n",
    "\n",
    "    def __init__(self, title: str, address: str, phoneNumber: str):\n",
    "        self.title = title\n",
    "        self.address = address\n",
    "        self.phoneNumber = phoneNumber\n",
    "\n",
    "    def __info__(self):\n",
    "        return f\"Страховая компания: [ID: {self.idFilial} Наименование: {self.title}, \" \\\n",
    "               f\"Адрес: {self.address}, Номер телефона: {self.phoneNumber}]\"\n",
    "    \n",
    "    def __str__(self):\n",
    "        return self.__info__()\n",
    "    "
   ]
  },
  {
   "cell_type": "markdown",
   "id": "6ee8cf33",
   "metadata": {},
   "source": [
    "Создание класса \"Agent\""
   ]
  },
  {
   "cell_type": "code",
   "execution_count": 4,
   "id": "b60dd100",
   "metadata": {},
   "outputs": [],
   "source": [
    "class Agent(Base):\n",
    "    __tablename__ = 'agent' \n",
    "\n",
    "    # Инициализируем поля\n",
    "    idAgent = Column(Integer, primary_key=True)\n",
    "    fullName = Column(String)  \n",
    "    address = Column(String)\n",
    "    phoneNumber = Column(String)\n",
    "    salary = Column(Integer)\n",
    "    idFilial = Column(Integer, ForeignKey('filial.idFilial'))\n",
    "    \n",
    "    # Связь с филиалом (многие к одному)\n",
    "    filial = relationship(\"Filial\", back_populates=\"agents\")\n",
    "    # Связь с договором (один ко многим)\n",
    "    belays = relationship(\"Belay\", back_populates=\"agent\")\n",
    "\n",
    "    # Добавляем дополнительные поля для компонентов имени\n",
    "    name = Column(String)\n",
    "    surname = Column(String)\n",
    "    lastname = Column(String)\n",
    "\n",
    "    # Создаем конструктор объекта класс\n",
    "    def __init__(self, fullName: list[str], address: str, phoneNumber: str, salary: int, idFilial: int):\n",
    "        self.surname = fullName[0]\n",
    "        self.name = fullName[1]\n",
    "        self.lastname = fullName[2]\n",
    "        self.fullName = ' '.join(fullName)\n",
    "        self.address = address\n",
    "        self.phoneNumber = phoneNumber\n",
    "        self.salary = salary\n",
    "        self.idFilial = idFilial\n",
    "\n",
    "    # отладочный метод для строкового вывода экзмепляра класса\n",
    "    def __repr__(self):\n",
    "        return f\"Страховой агент [ID: {self.idAgent}, ФИО: {self.surname} {self.name} {self.lastname}, \" \\\n",
    "               f\"Адрес: {self.address}, Номер телефона: {self.phoneNumber}, \" \\\n",
    "               f\"Зарплата (руб): {self.salary}, ID филиала: {self.idFilial}]\"\n",
    "    \n",
    "    # метод-обёртка для удобного вывода\n",
    "    def __str__(self):\n",
    "        return self.__repr__()"
   ]
  },
  {
   "cell_type": "markdown",
   "id": "5f65408f",
   "metadata": {},
   "source": [
    "Cоздание класса Client"
   ]
  },
  {
   "cell_type": "code",
   "execution_count": 5,
   "id": "6d7a8520",
   "metadata": {},
   "outputs": [],
   "source": [
    "class Client(Base):\n",
    "    __tablename__ = 'client' \n",
    "\n",
    "    idClient = Column(Integer, primary_key=True)\n",
    "    fullName = Column(String)  \n",
    "    age = Column(Integer)\n",
    "    address = Column(String)\n",
    "    phoneNumber = Column(String)\n",
    "\n",
    "    name = Column(String)\n",
    "    surname = Column(String)\n",
    "    lastname = Column(String)\n",
    "\n",
    "    # Связь с договорами (один ко многим)\n",
    "    belays = relationship(\"Belay\", back_populates=\"client\")\n",
    "\n",
    "    def __init__(self, fullName: list[str], age: int, address: str, phoneNumber: str):\n",
    "        self.surname = fullName[0]\n",
    "        self.name = fullName[1]\n",
    "        self.lastname = fullName[2]\n",
    "        self.fullName = ' '.join(fullName)\n",
    "        self.age = age\n",
    "        self.address = address\n",
    "        self.phoneNumber = phoneNumber\n",
    "\n",
    "    def __repr__(self):\n",
    "        return f\"Клиент: [ID: {self.idClient}, ФИО: {self.surname} {self.name} {self.lastname}, Возраст: {self.age}, \" \\\n",
    "               f\"Адрес: {self.address}, Номер телефона: {self.phoneNumber}]\"\n",
    "    \n",
    "    def __str__(self):\n",
    "        return self.__repr__()"
   ]
  },
  {
   "cell_type": "markdown",
   "id": "2a6206b5",
   "metadata": {},
   "source": [
    "Cоздание класса \"Belay\""
   ]
  },
  {
   "cell_type": "code",
   "execution_count": 6,
   "id": "a1d5bc7d",
   "metadata": {},
   "outputs": [],
   "source": [
    "class Belay(Base):\n",
    "    __tablename__ = 'belay'\n",
    "\n",
    "    idBelay = Column(Integer, primary_key=True)\n",
    "    idClient = Column(Integer, ForeignKey('client.idClient'))\n",
    "    idAgent = Column(Integer, ForeignKey('agent.idAgent'))\n",
    "    idFilial = Column(Integer, ForeignKey('filial.idFilial'))\n",
    "    date = Column(Date)  \n",
    "    insureType = Column(String)\n",
    "    tariffRate = Column(Float)\n",
    "    totalAmount = Column(Float)\n",
    "    monthlyPayment = Column(Float)\n",
    "\n",
    "    # Связи (многие к одному)\n",
    "    client = relationship(\"Client\", back_populates=\"belays\")  # Клиент имеет много договоров\n",
    "    agent = relationship(\"Agent\", back_populates=\"belays\")    # Агент имеет много договоров\n",
    "    filial = relationship(\"Filial\", back_populates=\"belays\") # Филиал имеет много договоров\n",
    "\n",
    "    def __init__(self, idClient: int, idAgent: int, idFilial: int, date: str, \n",
    "                 insureType: str, tariffRate: float, totalAmount: float, monthlyPayment: float):\n",
    "        self.idClient = idClient\n",
    "        self.idAgent = idAgent\n",
    "        self.idFilial = idFilial\n",
    "        self.date = date\n",
    "        self.insureType = insureType\n",
    "        self.tariffRate = tariffRate\n",
    "        self.totalAmount = totalAmount\n",
    "        self.monthlyPayment = monthlyPayment\n",
    "\n",
    "    def __repr__(self):\n",
    "        return f\"Страховое свидетельство [ID: {self.idBelay}, ID Клиента: {self.idClient}, ID Агента: {self.idAgent}, ID Филиала: {self.idFilial}, \" \\\n",
    "               f\"Дата заключения: {self.date}, Тип страхования: {self.insureType}, Процентная ставка: {self.tariffRate}, \" \\\n",
    "               f\"Сумма выплаты: {self.totalAmount}, Ежемесячный платеж: {self.monthlyPayment}]\"\n",
    "    \n",
    "    def __str__(self):\n",
    "        return self.__repr__()"
   ]
  },
  {
   "cell_type": "markdown",
   "id": "dbea9de9",
   "metadata": {},
   "source": [
    "Создание таблиц в БД"
   ]
  },
  {
   "cell_type": "code",
   "execution_count": 7,
   "id": "4be5385e",
   "metadata": {},
   "outputs": [],
   "source": [
    "Base.metadata.create_all(engine)"
   ]
  },
  {
   "cell_type": "markdown",
   "id": "4326b4f9",
   "metadata": {},
   "source": [
    "<h4>3 Заполнение БД тестовыми данными</h4>"
   ]
  },
  {
   "cell_type": "markdown",
   "id": "5e379039",
   "metadata": {},
   "source": [
    "Добавление тестовых данных в БД с помощью методов-конструкторов"
   ]
  },
  {
   "cell_type": "code",
   "execution_count": 8,
   "id": "f363dee5",
   "metadata": {},
   "outputs": [
    {
     "name": "stdout",
     "output_type": "stream",
     "text": [
      "Страховая компания: [ID: None Наименование: Страховая контора, Адрес: ул. Беговая, д. 11, Номер телефона: +73812992233]\n",
      "Страховой агент [ID: None, ФИО: Иванов Иван Иванович, Адрес: ул. Кропоткинская, д. 12, кв. 45, Номер телефона: +79991112233, Зарплата (руб): 125000, ID филиала: 1]\n",
      "Клиент: [ID: None, ФИО: Веселовская Мария Павловна, Возраст: 25, Адрес: ул. Моховая, д. 234, кв. 112, Номер телефона: +70004445599]\n",
      "Страховое свидетельство [ID: None, ID Клиента: 1, ID Агента: 1, ID Филиала: 1, Дата заключения: 2025-09-12, Тип страхования: Автострахование, Процентная ставка: 0.33, Сумма выплаты: 32345.15, Ежемесячный платеж: 570.11]\n",
      "\n",
      "Тестовые данные успешно созданы и добавлены в БД!\n"
     ]
    }
   ],
   "source": [
    "try:\n",
    "    # Создание и добавление в БД первого филиала\n",
    "    first_filial = Filial(\n",
    "        title='Страховая контора',\n",
    "        address='ул. Беговая, д. 11',\n",
    "        phoneNumber='+73812992233'\n",
    "    )\n",
    "    session.add(first_filial)\n",
    "    print(first_filial)\n",
    "\n",
    "    # Создание и добавление в БД первого агента\n",
    "    first_agent = Agent(\n",
    "        fullName=['Иванов', 'Иван', 'Иванович'],\n",
    "        address='ул. Кропоткинская, д. 12, кв. 45',\n",
    "        phoneNumber='+79991112233',\n",
    "        salary=125000,\n",
    "        idFilial=1\n",
    "    )\n",
    "    session.add(first_agent)\n",
    "    print(first_agent)\n",
    "\n",
    "    # Создание и добавление в БД первого клиента\n",
    "    first_client = Client(\n",
    "        fullName=['Веселовская', 'Мария', 'Павловна'],\n",
    "        age=25,\n",
    "        address='ул. Моховая, д. 234, кв. 112',\n",
    "        phoneNumber='+70004445599'\n",
    "    )\n",
    "    session.add(first_client)\n",
    "    print(first_client)\n",
    "\n",
    "    # Создание и добавление в БД первого страхового договора\n",
    "    first_belay = Belay(\n",
    "        idClient=1,\n",
    "        idAgent=1,\n",
    "        idFilial=1,\n",
    "        date=datetime.strptime('12-09-2025', '%d-%m-%Y').date(),  # Преобразуем строку в date\n",
    "        insureType='Автострахование',\n",
    "        tariffRate=0.33,\n",
    "        totalAmount=32345.15,\n",
    "        monthlyPayment=570.11\n",
    "    )\n",
    "    session.add(first_belay)\n",
    "    print(first_belay)\n",
    "\n",
    "    # Сохранение изменений в БД\n",
    "    session.commit()\n",
    "    print(\"\\nТестовые данные успешно созданы и добавлены в БД!\")\n",
    "\n",
    "except Exception as e:\n",
    "    session.rollback()\n",
    "    print(f\"\\nОшибка при создании тестовых данных: {e}\")"
   ]
  },
  {
   "cell_type": "markdown",
   "id": "b98edd45",
   "metadata": {},
   "source": [
    "Автоматическое заполнение БД тестовыми данными с помощью Faker"
   ]
  },
  {
   "cell_type": "markdown",
   "id": "697aa3dc",
   "metadata": {},
   "source": [
    "Заполнение таблицы filial"
   ]
  },
  {
   "cell_type": "code",
   "execution_count": 9,
   "id": "444af2e6",
   "metadata": {},
   "outputs": [
    {
     "name": "stdout",
     "output_type": "stream",
     "text": [
      "Успешно добавлено 30 филиалов!\n",
      "Статистика по названиям:\n",
      "  Страховая контора: 4 филиалов\n",
      "  ИНГОССТРАХ: 5 филиалов\n",
      "  РЕСО-Гарантия: 3 филиалов\n",
      "  Сбер-страхование: 6 филиалов\n",
      "  ВСК: 8 филиалов\n",
      "  СОГАЗ: 4 филиалов\n"
     ]
    }
   ],
   "source": [
    "try:\n",
    "    titles = ['Страховая контора', 'ИНГОССТРАХ', 'РЕСО-Гарантия', 'Сбер-страхование', 'ВСК', 'СОГАЗ']\n",
    "    filialIds = []\n",
    "\n",
    "    faker = Faker('ru-RU')\n",
    "\n",
    "    # словарь счётчиков(сколько раз было добавлено конкретное наименование)\n",
    "    titles_temp = {\n",
    "        'Страховая контора': 0, \n",
    "        'ИНГОССТРАХ': 0, \n",
    "        'РЕСО-Гарантия': 0, \n",
    "        'Сбер-страхование': 0, \n",
    "        'ВСК': 0, \n",
    "        'СОГАЗ': 0\n",
    "    }\n",
    "\n",
    "    for i in range(1, 31):\n",
    "        # Выбираем случайное название\n",
    "        chosen_title = faker.random.choice(titles)\n",
    "        \n",
    "        # Увеличиваем счетчик для выбранного названия\n",
    "        titles_temp[chosen_title] += 1\n",
    "        \n",
    "        # Если название повторяется больше 1 раза, добавляем номер\n",
    "        if titles_temp[chosen_title] > 1:\n",
    "            final_title = f'{chosen_title} ({titles_temp[chosen_title]})'\n",
    "        else:\n",
    "            final_title = chosen_title\n",
    "\n",
    "        filial = Filial(\n",
    "            title=final_title,\n",
    "            address=faker.address(),\n",
    "            phoneNumber=faker.phone_number()\n",
    "        )\n",
    "\n",
    "        session.add(filial)\n",
    "        session.flush()\n",
    "        filialIds.append(filial.idFilial)\n",
    "\n",
    "    session.commit()\n",
    "    print(f'Успешно добавлено {len(filialIds)} филиалов!')\n",
    "    print(\"Статистика по названиям:\")\n",
    "    for title, count in titles_temp.items():\n",
    "        print(f\"  {title}: {count} филиалов\")\n",
    "\n",
    "except Exception as e:\n",
    "    session.rollback()\n",
    "    print(f\"Ошибка при добавлении филиалов: {str(e)}\")"
   ]
  },
  {
   "cell_type": "markdown",
   "id": "32ba7988",
   "metadata": {},
   "source": [
    "Заполнение таблицы agent"
   ]
  },
  {
   "cell_type": "code",
   "execution_count": 10,
   "id": "7bc218ec",
   "metadata": {},
   "outputs": [
    {
     "name": "stdout",
     "output_type": "stream",
     "text": [
      "Успешно добавлено 50 агентов!\n"
     ]
    }
   ],
   "source": [
    "try:\n",
    "    agentIds = []\n",
    "    agentFilialMappingDict = {}  # словарь для хранения связи агент-филиал\n",
    "    \n",
    "    faker = Faker('ru-RU')\n",
    "\n",
    "    for i in range(1, 51):\n",
    "        id_filial = random.choice(filialIds)\n",
    "        rec = Agent(\n",
    "            fullName=faker.name().split(' '),  \n",
    "            address=faker.address(),\n",
    "            phoneNumber=faker.phone_number(),\n",
    "            salary=random.randint(50000, 150000), \n",
    "            idFilial=id_filial\n",
    "        )\n",
    "        session.add(rec)\n",
    "        session.flush()\n",
    "        agentIds.append(rec.idAgent)\n",
    "        agentFilialMappingDict[rec.idAgent] = id_filial  # Сохраняем связь\n",
    "\n",
    "    session.commit()\n",
    "    print(f'Успешно добавлено {len(agentIds)} агентов!')\n",
    "\n",
    "except Exception as e:\n",
    "    session.rollback()\n",
    "    print(f\"Ошибка при добавлении агентов: {str(e)}\")"
   ]
  },
  {
   "cell_type": "markdown",
   "id": "39acd429",
   "metadata": {},
   "source": [
    "Заполнение таблицы client"
   ]
  },
  {
   "cell_type": "code",
   "execution_count": 11,
   "id": "ebe760c3",
   "metadata": {},
   "outputs": [
    {
     "name": "stdout",
     "output_type": "stream",
     "text": [
      "Успешно добавлено 100 клиентов!\n"
     ]
    }
   ],
   "source": [
    "try:\n",
    "    clientIds = []\n",
    "    \n",
    "    faker = Faker('ru-RU')\n",
    "\n",
    "    for i in range(1, 101):\n",
    "        client = Client(\n",
    "            fullName=faker.name().split(' '),\n",
    "            age=random.randint(18, 80),\n",
    "            address=faker.address(),\n",
    "            phoneNumber=faker.phone_number(),\n",
    "        )\n",
    "        session.add(client)\n",
    "        session.flush()\n",
    "        clientIds.append(client.idClient)\n",
    "\n",
    "    session.commit()\n",
    "    print(f'Успешно добавлено {len(clientIds)} клиентов!')\n",
    "\n",
    "except Exception as e:\n",
    "    session.rollback()\n",
    "    print(f\"Ошибка при добавлении клиентов: {str(e)}\")"
   ]
  },
  {
   "cell_type": "markdown",
   "id": "231c30bf",
   "metadata": {},
   "source": [
    "Заполнение таблицы belay"
   ]
  },
  {
   "cell_type": "code",
   "execution_count": 12,
   "id": "d152bf42",
   "metadata": {},
   "outputs": [
    {
     "name": "stdout",
     "output_type": "stream",
     "text": [
      "Успешно добавлено 150 договоров!\n"
     ]
    }
   ],
   "source": [
    "try:\n",
    "    insureTypes = [\n",
    "        'Автострахование', 'Страхование жизни', 'Спортивная страховка', 'Страхование недвижимости',\n",
    "        'Обязательное медицинское страхование', 'Страхование для военнослужащих', 'Страхование гражданской ответственности',\n",
    "        'Бизнес-страхование', 'Туристическое страхование'\n",
    "    ]\n",
    "    \n",
    "    faker = Faker('ru-RU')\n",
    "\n",
    "    for i in range(1, 151):\n",
    "        # добавление полей id с учётом связей между таблицами\n",
    "        id_client = random.choice(clientIds)\n",
    "        id_agent = random.choice(agentIds)\n",
    "        id_filial = agentFilialMappingDict[id_agent]\n",
    "        \n",
    "        # генерация параметров страхового договора\n",
    "        tariff_rate = round(random.uniform(0.5, 5.0), 2)  # Тарифная ставка 0.5% - 5%\n",
    "        total_amount = round(random.uniform(100000.00, 1000000.00), 2)  # Общая сумма 100к - 1м\n",
    "        monthly_payment = round(total_amount * tariff_rate / 100 / 12, 2)  # Ежемесячный платеж\n",
    "        \n",
    "        # генерация даты заключения договора\n",
    "        start_date = datetime.now() - timedelta(days=730)\n",
    "        random_date = faker.date_between(start_date=start_date, end_date='today')\n",
    "        \n",
    "        belay = Belay(\n",
    "            idClient=id_client,\n",
    "            idAgent=id_agent,\n",
    "            idFilial=id_filial,\n",
    "            date=random_date,\n",
    "            insureType=random.choice(insureTypes),\n",
    "            tariffRate=tariff_rate,\n",
    "            totalAmount=total_amount,\n",
    "            monthlyPayment=monthly_payment\n",
    "        )\n",
    "        session.add(belay)\n",
    "\n",
    "    session.commit()\n",
    "    print(f'Успешно добавлено {i} договоров!')\n",
    "\n",
    "except Exception as e:\n",
    "    session.rollback()\n",
    "    print(f\"Ошибка при добавлении договоров: {str(e)}\")"
   ]
  },
  {
   "cell_type": "markdown",
   "id": "2002dfcd",
   "metadata": {},
   "source": [
    "<h4>4 Чтение данных из БД</h4>"
   ]
  },
  {
   "cell_type": "markdown",
   "id": "c06e3d35",
   "metadata": {},
   "source": [
    "Чтение данных из таблицы filial"
   ]
  },
  {
   "cell_type": "code",
   "execution_count": 13,
   "id": "7653b730",
   "metadata": {},
   "outputs": [
    {
     "name": "stdout",
     "output_type": "stream",
     "text": [
      "Данные из таблицы filial:\n",
      "Страховая компания: [ID: 1 Наименование: Страховая контора, Адрес: ул. Беговая, д. 11, Номер телефона: +73812992233]\n",
      "Страховая компания: [ID: 2 Наименование: ВСК, Адрес: п. Усть-Кут, пр. Минский, д. 770 стр. 1, 786939, Номер телефона: +7 (531) 023-43-61]\n",
      "Страховая компания: [ID: 3 Наименование: РЕСО-Гарантия, Адрес: клх Саратов, наб. Гоголя, д. 8/1, 230950, Номер телефона: +7 520 569 4984]\n",
      "Страховая компания: [ID: 4 Наименование: СОГАЗ, Адрес: с. Курганинск, ш. Осенное, д. 6/7, 012175, Номер телефона: 8 810 773 1720]\n",
      "Страховая компания: [ID: 5 Наименование: ВСК (2), Адрес: ст. Дмитров, наб. Металлургов, д. 51, 300093, Номер телефона: +70729379335]\n",
      "Страховая компания: [ID: 6 Наименование: Страховая контора, Адрес: ст. Партизанск, бул. Макаренко, д. 8/2, 437490, Номер телефона: 8 521 143 22 60]\n",
      "Страховая компания: [ID: 7 Наименование: Сбер-страхование, Адрес: клх Далматово, бул. К.Маркса, д. 831, 876452, Номер телефона: 8 783 136 9887]\n",
      "Страховая компания: [ID: 8 Наименование: ИНГОССТРАХ, Адрес: д. Яр-Сале, ул. Рязанская, д. 788, 634442, Номер телефона: 8 623 186 89 84]\n",
      "Страховая компания: [ID: 9 Наименование: ВСК (3), Адрес: д. Эльбрус, пер. Разина, д. 567 стр. 41, 366305, Номер телефона: 8 (741) 085-25-97]\n",
      "Страховая компания: [ID: 10 Наименование: ВСК (4), Адрес: г. Железногорск(Курск.), алл. Школьная, д. 460 стр. 4, 352140, Номер телефона: 8 (807) 575-76-10]\n"
     ]
    }
   ],
   "source": [
    "try:\n",
    "    count = 0\n",
    "\n",
    "    # получение всех записей из таблицы filial\n",
    "    filials = session.query(Filial).all()\n",
    "\n",
    "    # вывод на экран 10 записей из таблицы\n",
    "    print(\"Данные из таблицы filial:\")\n",
    "    for filial in filials:\n",
    "        count += 1\n",
    "        if count <= 10:\n",
    "            print(filial)\n",
    "\n",
    "except SQLAlchemyError as e:\n",
    "    # обработка исключений SQLAlchemy\n",
    "    print(\"Произошла ошибка при работе с базой данных:\")\n",
    "    print(str(e))\n",
    "\n",
    "except Exception as e:\n",
    "    # обработка любых других исключений\n",
    "    print(\"Произошла ошибка:\")\n",
    "    print(str(e))\n",
    "\n",
    "finally:\n",
    "    # закрытие сессии\n",
    "    session.close()"
   ]
  },
  {
   "cell_type": "markdown",
   "id": "f51e366d",
   "metadata": {},
   "source": [
    "Чтение данных из таблицы agent"
   ]
  },
  {
   "cell_type": "code",
   "execution_count": 14,
   "id": "b04672b9",
   "metadata": {},
   "outputs": [
    {
     "name": "stdout",
     "output_type": "stream",
     "text": [
      "Данные из таблицы agent:\n",
      "Страховой агент [ID: 1, ФИО: Иванов Иван Иванович, Адрес: ул. Кропоткинская, д. 12, кв. 45, Номер телефона: +79991112233, Зарплата (руб): 125000, ID филиала: 1]\n",
      "Страховой агент [ID: 2, ФИО: Кира Филипповна Калинина, Адрес: клх Сунтар, ш. 40 лет Октября, д. 76 к. 4/3, 422455, Номер телефона: 8 (035) 200-8692, Зарплата (руб): 81772, ID филиала: 4]\n",
      "Страховой агент [ID: 3, ФИО: Пахомова Марина Никифоровна, Адрес: г. Тольятти, алл. Мусы Джалиля, д. 6/1, 738753, Номер телефона: +7 (660) 273-2817, Зарплата (руб): 146848, ID филиала: 2]\n",
      "Страховой агент [ID: 4, ФИО: Герасимова Жанна Макаровна, Адрес: с. Ноглики, бул. Красных Партизан, д. 1/5 стр. 5/5, 049814, Номер телефона: +7 (252) 650-6678, Зарплата (руб): 99989, ID филиала: 13]\n",
      "Страховой агент [ID: 5, ФИО: Пелагея Вениаминовна Игнатова, Адрес: п. Ивдель, наб. Коммуны, д. 398, 011890, Номер телефона: +7 233 858 15 68, Зарплата (руб): 111881, ID филиала: 29]\n",
      "Страховой агент [ID: 6, ФИО: Иларион Давыдович Борисов, Адрес: клх Ребриха, ул. Королева, д. 718, 966465, Номер телефона: 8 213 647 79 21, Зарплата (руб): 105736, ID филиала: 13]\n",
      "Страховой агент [ID: 7, ФИО: Архипова Нинель Тимофеевна, Адрес: г. Балашиха, пер. Волжский, д. 21 к. 34, 998747, Номер телефона: 85667742426, Зарплата (руб): 84787, ID филиала: 18]\n",
      "Страховой агент [ID: 8, ФИО: Ия Богдановна Рогова, Адрес: ст. Катав-Ивановск, бул. Славянский, д. 42, 176807, Номер телефона: +7 165 482 9064, Зарплата (руб): 101651, ID филиала: 28]\n",
      "Страховой агент [ID: 9, ФИО: Сафонов Панкратий Терентьевич, Адрес: клх Тында, бул. Иркутский, д. 27 стр. 9/1, 337518, Номер телефона: +7 (851) 200-45-74, Зарплата (руб): 63747, ID филиала: 5]\n",
      "Страховой агент [ID: 10, ФИО: Фокин Трифон Трофимович, Адрес: клх Аргаяш, ш. Черноморское, д. 80, 327180, Номер телефона: 8 381 841 67 67, Зарплата (руб): 53261, ID филиала: 4]\n"
     ]
    }
   ],
   "source": [
    "try:\n",
    "    count = 0\n",
    "\n",
    "    # получение всех записей из таблицы filial\n",
    "    agents = session.query(Agent).all()\n",
    "\n",
    "    # вывод на экран 10 записей из таблицы\n",
    "    print(\"Данные из таблицы agent:\")\n",
    "    for rec in agents:\n",
    "        count += 1\n",
    "        if count <= 10:\n",
    "            print(rec)\n",
    "\n",
    "except SQLAlchemyError as e:\n",
    "    # обработка исключений SQLAlchemy\n",
    "    print(\"Произошла ошибка при работе с базой данных:\")\n",
    "    print(str(e))\n",
    "\n",
    "except Exception as e:\n",
    "    # обработка любых других исключений\n",
    "    print(\"Произошла ошибка:\")\n",
    "    print(str(e))\n",
    "\n",
    "finally:\n",
    "    # закрытие сессии\n",
    "    session.close()"
   ]
  },
  {
   "cell_type": "markdown",
   "id": "a403d801",
   "metadata": {},
   "source": [
    "Чтение данных из таблицы client"
   ]
  },
  {
   "cell_type": "code",
   "execution_count": 15,
   "id": "ea68fdd3",
   "metadata": {},
   "outputs": [
    {
     "name": "stdout",
     "output_type": "stream",
     "text": [
      "Данные из таблицы agent:\n",
      "Клиент: [ID: 1, ФИО: Веселовская Мария Павловна, Возраст: 25, Адрес: ул. Моховая, д. 234, кв. 112, Номер телефона: +70004445599]\n",
      "Клиент: [ID: 2, ФИО: Парамон Гавриилович Исаков, Возраст: 75, Адрес: к. Энгельс, пр. Кольцова, д. 98 стр. 37, 643735, Номер телефона: 87010139883]\n",
      "Клиент: [ID: 3, ФИО: Дементий Иларионович Борисов, Возраст: 29, Адрес: с. Лянтор, пр. Родниковый, д. 852 стр. 81, 640794, Номер телефона: +7 (805) 867-51-53]\n",
      "Клиент: [ID: 4, ФИО: Орест Жанович Волков, Возраст: 64, Адрес: ст. Амдерма, ул. Подгорная, д. 126, 548653, Номер телефона: +7 (290) 954-4040]\n",
      "Клиент: [ID: 5, ФИО: Твердислав Демьянович Терентьев, Возраст: 74, Адрес: г. Терскол, ш. Энергетиков, д. 753, 224238, Номер телефона: +7 234 665 4475]\n",
      "Клиент: [ID: 6, ФИО: Анжелика Романовна Дьячкова, Возраст: 57, Адрес: ст. Мураши, бул. Нахимова, д. 3 стр. 128, 320361, Номер телефона: 8 (602) 856-10-11]\n",
      "Клиент: [ID: 7, ФИО: Орлова Оксана Наумовна, Возраст: 25, Адрес: г. Шерегеш, алл. Вахитова, д. 55, 943197, Номер телефона: +7 (756) 522-2482]\n",
      "Клиент: [ID: 8, ФИО: Ольга Тимуровна Носова, Возраст: 59, Адрес: к. Терскол, алл. Гвардейская, д. 512 стр. 27, 540322, Номер телефона: +7 333 437 81 84]\n",
      "Клиент: [ID: 9, ФИО: Иванова Валерия Романовна, Возраст: 54, Адрес: с. Троицк (Моск.), пер. Речной, д. 554 стр. 5/3, 746674, Номер телефона: 8 (767) 484-1682]\n",
      "Клиент: [ID: 10, ФИО: Вишнякова Зинаида Леоновна, Возраст: 41, Адрес: клх Солнечногорск, ул. Лазурная, д. 958, 244764, Номер телефона: +7 (206) 876-60-23]\n",
      "Клиент: [ID: 11, ФИО: Зоя Вадимовна Захарова, Возраст: 18, Адрес: д. Архыз, пер. Ленинский, д. 10, 067142, Номер телефона: +7 (136) 643-33-80]\n",
      "Клиент: [ID: 12, ФИО: Владислав Трифонович Калашников, Возраст: 39, Адрес: п. Краснодар, бул. Севастопольский, д. 73 к. 4/5, 505497, Номер телефона: 8 058 396 2256]\n",
      "Клиент: [ID: 13, ФИО: Потапова Наталья Михайловна, Возраст: 53, Адрес: п. Устюжна, ш. 50 лет ВЛКСМ, д. 5 стр. 647, 544303, Номер телефона: 8 083 596 24 26]\n",
      "Клиент: [ID: 14, ФИО: Анна Афанасьевна Казакова, Возраст: 21, Адрес: п. Березники, ш. Станционное, д. 4, 983556, Номер телефона: +7 (347) 384-40-46]\n",
      "Клиент: [ID: 15, ФИО: Лукия Игоревна Турова, Возраст: 21, Адрес: клх Данков, алл. Островского, д. 2 к. 2, 002172, Номер телефона: +7 (839) 615-9070]\n"
     ]
    }
   ],
   "source": [
    "try:\n",
    "    count = 0\n",
    "\n",
    "    # получение всех записей из таблицы filial\n",
    "    clients = session.query(Client).all()\n",
    "\n",
    "    # вывод на экран 15 записей из таблицы\n",
    "    print(\"Данные из таблицы agent:\")\n",
    "    for client in clients:\n",
    "        count += 1\n",
    "        if count <= 15:\n",
    "            print(client)\n",
    "\n",
    "except SQLAlchemyError as e:\n",
    "    # обработка исключений SQLAlchemy\n",
    "    print(\"Произошла ошибка при работе с базой данных:\")\n",
    "    print(str(e))\n",
    "\n",
    "except Exception as e:\n",
    "    # обработка любых других исключений\n",
    "    print(\"Произошла ошибка:\")\n",
    "    print(str(e))\n",
    "\n",
    "finally:\n",
    "    # закрытие сессии\n",
    "    session.close()"
   ]
  },
  {
   "cell_type": "markdown",
   "id": "297b8754",
   "metadata": {},
   "source": [
    "Чтение данных из таблицы belay"
   ]
  },
  {
   "cell_type": "code",
   "execution_count": 16,
   "id": "6a52b6a6",
   "metadata": {},
   "outputs": [
    {
     "name": "stdout",
     "output_type": "stream",
     "text": [
      "Данные из таблицы agent:\n",
      "Страховое свидетельство [ID: 1, ID Клиента: 1, ID Агента: 1, ID Филиала: 1, Дата заключения: 2025-09-12, Тип страхования: Автострахование, Процентная ставка: 0.33, Сумма выплаты: 32345.15, Ежемесячный платеж: 570.11]\n",
      "Страховое свидетельство [ID: 2, ID Клиента: 9, ID Агента: 18, ID Филиала: 19, Дата заключения: 2024-02-24, Тип страхования: Страхование гражданской ответственности, Процентная ставка: 0.75, Сумма выплаты: 781724.12, Ежемесячный платеж: 488.58]\n",
      "Страховое свидетельство [ID: 3, ID Клиента: 54, ID Агента: 50, ID Филиала: 24, Дата заключения: 2024-04-15, Тип страхования: Автострахование, Процентная ставка: 1.56, Сумма выплаты: 198287.7, Ежемесячный платеж: 257.77]\n",
      "Страховое свидетельство [ID: 4, ID Клиента: 23, ID Агента: 35, ID Филиала: 12, Дата заключения: 2024-02-23, Тип страхования: Страхование недвижимости, Процентная ставка: 1.42, Сумма выплаты: 433983.62, Ежемесячный платеж: 513.55]\n",
      "Страховое свидетельство [ID: 5, ID Клиента: 11, ID Агента: 26, ID Филиала: 5, Дата заключения: 2025-07-17, Тип страхования: Страхование гражданской ответственности, Процентная ставка: 4.04, Сумма выплаты: 924241.0, Ежемесячный платеж: 3111.61]\n",
      "Страховое свидетельство [ID: 6, ID Клиента: 5, ID Агента: 34, ID Филиала: 8, Дата заключения: 2025-05-19, Тип страхования: Автострахование, Процентная ставка: 3.95, Сумма выплаты: 736668.75, Ежемесячный платеж: 2424.87]\n",
      "Страховое свидетельство [ID: 7, ID Клиента: 14, ID Агента: 20, ID Филиала: 24, Дата заключения: 2025-07-22, Тип страхования: Спортивная страховка, Процентная ставка: 3.16, Сумма выплаты: 464664.99, Ежемесячный платеж: 1223.62]\n",
      "Страховое свидетельство [ID: 8, ID Клиента: 77, ID Агента: 49, ID Филиала: 30, Дата заключения: 2023-10-03, Тип страхования: Страхование недвижимости, Процентная ставка: 1.62, Сумма выплаты: 174240.61, Ежемесячный платеж: 235.22]\n",
      "Страховое свидетельство [ID: 9, ID Клиента: 95, ID Агента: 10, ID Филиала: 4, Дата заключения: 2025-07-30, Тип страхования: Обязательное медицинское страхование, Процентная ставка: 0.57, Сумма выплаты: 229310.46, Ежемесячный платеж: 108.92]\n",
      "Страховое свидетельство [ID: 10, ID Клиента: 18, ID Агента: 46, ID Филиала: 16, Дата заключения: 2024-04-21, Тип страхования: Страхование жизни, Процентная ставка: 1.19, Сумма выплаты: 128709.81, Ежемесячный платеж: 127.64]\n",
      "Страховое свидетельство [ID: 11, ID Клиента: 63, ID Агента: 14, ID Филиала: 6, Дата заключения: 2024-01-13, Тип страхования: Страхование недвижимости, Процентная ставка: 3.52, Сумма выплаты: 152198.81, Ежемесячный платеж: 446.45]\n",
      "Страховое свидетельство [ID: 12, ID Клиента: 73, ID Агента: 2, ID Филиала: 4, Дата заключения: 2025-05-22, Тип страхования: Спортивная страховка, Процентная ставка: 0.96, Сумма выплаты: 718108.48, Ежемесячный платеж: 574.49]\n",
      "Страховое свидетельство [ID: 13, ID Клиента: 48, ID Агента: 25, ID Филиала: 11, Дата заключения: 2025-04-26, Тип страхования: Туристическое страхование, Процентная ставка: 2.74, Сумма выплаты: 171939.12, Ежемесячный платеж: 392.59]\n",
      "Страховое свидетельство [ID: 14, ID Клиента: 80, ID Агента: 12, ID Филиала: 26, Дата заключения: 2024-11-28, Тип страхования: Туристическое страхование, Процентная ставка: 4.47, Сумма выплаты: 246577.86, Ежемесячный платеж: 918.5]\n",
      "Страховое свидетельство [ID: 15, ID Клиента: 4, ID Агента: 41, ID Филиала: 6, Дата заключения: 2024-03-01, Тип страхования: Страхование недвижимости, Процентная ставка: 3.57, Сумма выплаты: 355530.63, Ежемесячный платеж: 1057.7]\n",
      "Страховое свидетельство [ID: 16, ID Клиента: 12, ID Агента: 12, ID Филиала: 26, Дата заключения: 2025-01-03, Тип страхования: Страхование для военнослужащих, Процентная ставка: 1.57, Сумма выплаты: 748257.9, Ежемесячный платеж: 978.97]\n",
      "Страховое свидетельство [ID: 17, ID Клиента: 90, ID Агента: 50, ID Филиала: 24, Дата заключения: 2025-05-10, Тип страхования: Страхование для военнослужащих, Процентная ставка: 4.16, Сумма выплаты: 595853.1, Ежемесячный платеж: 2065.62]\n",
      "Страховое свидетельство [ID: 18, ID Клиента: 18, ID Агента: 51, ID Филиала: 6, Дата заключения: 2025-05-30, Тип страхования: Страхование жизни, Процентная ставка: 3.41, Сумма выплаты: 347330.53, Ежемесячный платеж: 987.0]\n",
      "Страховое свидетельство [ID: 19, ID Клиента: 101, ID Агента: 41, ID Филиала: 6, Дата заключения: 2025-04-22, Тип страхования: Страхование жизни, Процентная ставка: 0.7, Сумма выплаты: 354512.27, Ежемесячный платеж: 206.8]\n",
      "Страховое свидетельство [ID: 20, ID Клиента: 90, ID Агента: 40, ID Филиала: 10, Дата заключения: 2024-11-13, Тип страхования: Бизнес-страхование, Процентная ставка: 4.8, Сумма выплаты: 781830.54, Ежемесячный платеж: 3127.32]\n"
     ]
    }
   ],
   "source": [
    "try:\n",
    "    count = 0\n",
    "\n",
    "    # получение всех записей из таблицы filial\n",
    "    belays = session.query(Belay).all()\n",
    "\n",
    "    # вывод на экран 20 записей из таблицы\n",
    "    print(\"Данные из таблицы agent:\")\n",
    "    for belay in belays:\n",
    "        count += 1\n",
    "        if count <= 20:\n",
    "            print(belay)\n",
    "\n",
    "except SQLAlchemyError as e:\n",
    "    # обработка исключений SQLAlchemy\n",
    "    print(\"Произошла ошибка при работе с базой данных:\")\n",
    "    print(str(e))\n",
    "\n",
    "except Exception as e:\n",
    "    # обработка любых других исключений\n",
    "    print(\"Произошла ошибка:\")\n",
    "    print(str(e))\n",
    "\n",
    "finally:\n",
    "    # закрытие сессии\n",
    "    session.close()"
   ]
  },
  {
   "cell_type": "markdown",
   "id": "1e41af17",
   "metadata": {},
   "source": [
    "<h4>5 Обновление и изменение данных в БД</h4>"
   ]
  },
  {
   "cell_type": "markdown",
   "id": "a1b16434",
   "metadata": {},
   "source": [
    "Обновление поля age в таблице client"
   ]
  },
  {
   "cell_type": "code",
   "execution_count": 17,
   "id": "a0a29045",
   "metadata": {},
   "outputs": [
    {
     "name": "stdout",
     "output_type": "stream",
     "text": [
      "Клиент: [ID: 1, ФИО: Веселовская Мария Павловна, Возраст: 25, Адрес: ул. Моховая, д. 234, кв. 112, Номер телефона: +70004445599]\n",
      "Клиент: [ID: 1, ФИО: Веселовская Мария Павловна, Возраст: 31, Адрес: ул. Моховая, д. 234, кв. 112, Номер телефона: +70004445599]\n"
     ]
    }
   ],
   "source": [
    "tableName = 'client'\n",
    "\n",
    "try:\n",
    "    # вывод записи до обновления\n",
    "    clientToUpdate = session.query(Client).filter(Client.idClient == 1).first()\n",
    "    print(clientToUpdate)\n",
    "\n",
    "    # обновление поля \"возраст\"\n",
    "    if clientToUpdate:\n",
    "        clientToUpdate.age = random.randint(18, 80)\n",
    "        session.commit()\n",
    "\n",
    "except SQLAlchemyError as e:\n",
    "    session.rollback()\n",
    "    print(f\"Ошибка при обновлении данных в таблице {tableName}: {e}\")\n",
    "\n",
    "try:\n",
    "    # вывод записи после обновления\n",
    "    clientUpdated = session.query(Client).filter(Client.idClient == 1).first()\n",
    "    print(clientUpdated)\n",
    "    session.close()\n",
    "\n",
    "except SQLAlchemyError as e:\n",
    "    session.rollback()\n",
    "    print(f\"Ошибка при работе с таблицей {tableName}: {e}\")"
   ]
  },
  {
   "cell_type": "markdown",
   "id": "2f88048f",
   "metadata": {},
   "source": [
    "Создание функции для вывода последних N-записей в виде таблицы"
   ]
  },
  {
   "cell_type": "code",
   "execution_count": 18,
   "id": "afec9d2a",
   "metadata": {},
   "outputs": [],
   "source": [
    "def printLastRecords(modelClass, num):\n",
    "    try:\n",
    "        # нахождение первичного ключа\n",
    "        primary_key = None\n",
    "        for column in modelClass.__table__.columns:\n",
    "            if column.primary_key:\n",
    "                primary_key = column.name\n",
    "                break\n",
    "        \n",
    "        if not primary_key:\n",
    "            print(\"Не найден первичный ключ\")\n",
    "            return\n",
    "        \n",
    "        # получение последних записей\n",
    "        lastRecs = session.query(modelClass).order_by(getattr(modelClass, primary_key).desc()).limit(num).all()\n",
    "        \n",
    "        # получение названий колонок в таблице\n",
    "        recData = []\n",
    "        for rec in lastRecs:\n",
    "            row = []\n",
    "            for column in modelClass.__table__.columns:\n",
    "                row.append(getattr(rec, column.name))\n",
    "            recData.append(row)\n",
    "\n",
    "        recData.reverse()\n",
    "        \n",
    "        headers = [column.name for column in modelClass.__table__.columns]\n",
    "        \n",
    "        print(f\"\\nПоследние {num} записей из {modelClass.__tablename__}:\")\n",
    "        print(tabulate(recData, headers=headers, tablefmt=\"grid\"))\n",
    "        \n",
    "    except Exception as e:\n",
    "        print(f\"Ошибка: {str(e)}\")"
   ]
  },
  {
   "cell_type": "markdown",
   "id": "1e18b4ed",
   "metadata": {},
   "source": [
    "Добавление записи в таблицу agent и вывод последних 5 записей"
   ]
  },
  {
   "cell_type": "code",
   "execution_count": 19,
   "id": "3a362345",
   "metadata": {},
   "outputs": [
    {
     "name": "stdout",
     "output_type": "stream",
     "text": [
      "Страховой агент [ID: None, ФИО: Федоров Федор Федорович, Адрес: ул. Кропоткинская, д. 12, кв. 45, Номер телефона: +79991112233, Зарплата (руб): 125000, ID филиала: 11]\n",
      "\n",
      "Последние 5 записей из agent:\n",
      "+-----------+-------------------------------+------------------------------------------------------------------+--------------------+----------+------------+--------------+-----------+------------+\n",
      "|   idAgent | fullName                      | address                                                          | phoneNumber        |   salary |   idFilial | name         | surname   | lastname   |\n",
      "+===========+===============================+==================================================================+====================+==========+============+==============+===========+============+\n",
      "|        48 | Елизавета Владимировна Бурова | п. Зеленогорск (Ленин.), алл. Слободская, д. 78, 262487          | +78036502108       |   135011 |         14 | Владимировна | Елизавета | Бурова     |\n",
      "+-----------+-------------------------------+------------------------------------------------------------------+--------------------+----------+------------+--------------+-----------+------------+\n",
      "|        49 | Панова Екатерина Макаровна    | д. Златоуст, пр. Строительный, д. 3, 865544                      | +7 (253) 400-82-19 |   113223 |         30 | Екатерина    | Панова    | Макаровна  |\n",
      "+-----------+-------------------------------+------------------------------------------------------------------+--------------------+----------+------------+--------------+-----------+------------+\n",
      "|        50 | Евстафий Ефстафьевич Макаров  | к. Минеральные Воды, ул. Индустриальная, д. 335 стр. 862, 912273 | 8 638 265 04 10    |    80034 |         24 | Ефстафьевич  | Евстафий  | Макаров    |\n",
      "+-----------+-------------------------------+------------------------------------------------------------------+--------------------+----------+------------+--------------+-----------+------------+\n",
      "|        51 | Азарий Измаилович Сорокин     | к. Каргасок, наб. Совхозная, д. 498, 666167                      | 83430126658        |   121856 |          6 | Измаилович   | Азарий    | Сорокин    |\n",
      "+-----------+-------------------------------+------------------------------------------------------------------+--------------------+----------+------------+--------------+-----------+------------+\n",
      "|        52 | Федоров Федор Федорович       | ул. Кропоткинская, д. 12, кв. 45                                 | +79991112233       |   125000 |         11 | Федор        | Федоров   | Федорович  |\n",
      "+-----------+-------------------------------+------------------------------------------------------------------+--------------------+----------+------------+--------------+-----------+------------+\n"
     ]
    }
   ],
   "source": [
    "tableName = 'agent'\n",
    "\n",
    "try:\n",
    "    # добавление новой записи\n",
    "    newAgent = Agent(\n",
    "        fullName=['Федоров', 'Федор', 'Федорович'],\n",
    "        address='ул. Кропоткинская, д. 12, кв. 45',\n",
    "        phoneNumber='+79991112233',\n",
    "        salary=125000,\n",
    "        idFilial=11\n",
    "    )\n",
    "    session.add(newAgent)\n",
    "    print(newAgent)\n",
    "\n",
    "    # выводим последние 5 записей в таблице\n",
    "    printLastRecords(Agent, 5)\n",
    "\n",
    "except SQLAlchemyError as e:\n",
    "    session.rollback()\n",
    "    print(f\"Ошибка при добавлении новой записи в таблицу {tableName}: {e}\")"
   ]
  },
  {
   "cell_type": "markdown",
   "id": "347a7a85",
   "metadata": {},
   "source": [
    "Удаление записи в таблице agent"
   ]
  },
  {
   "cell_type": "code",
   "execution_count": 20,
   "id": "93293bc3",
   "metadata": {},
   "outputs": [
    {
     "name": "stdout",
     "output_type": "stream",
     "text": [
      "Последняя запись из таблицы Agent успешно удалена (ID: 52).\n",
      "\n",
      "Последние 5 записей из agent:\n",
      "+-----------+-------------------------------+------------------------------------------------------------------+--------------------+----------+------------+--------------+-----------+------------+\n",
      "|   idAgent | fullName                      | address                                                          | phoneNumber        |   salary |   idFilial | name         | surname   | lastname   |\n",
      "+===========+===============================+==================================================================+====================+==========+============+==============+===========+============+\n",
      "|        47 | Фокина Майя Николаевна        | д. Вологда, пр. Лермонтова, д. 967 стр. 820, 210641              | +7 296 246 2196    |    90124 |          5 | Майя         | Фокина    | Николаевна |\n",
      "+-----------+-------------------------------+------------------------------------------------------------------+--------------------+----------+------------+--------------+-----------+------------+\n",
      "|        48 | Елизавета Владимировна Бурова | п. Зеленогорск (Ленин.), алл. Слободская, д. 78, 262487          | +78036502108       |   135011 |         14 | Владимировна | Елизавета | Бурова     |\n",
      "+-----------+-------------------------------+------------------------------------------------------------------+--------------------+----------+------------+--------------+-----------+------------+\n",
      "|        49 | Панова Екатерина Макаровна    | д. Златоуст, пр. Строительный, д. 3, 865544                      | +7 (253) 400-82-19 |   113223 |         30 | Екатерина    | Панова    | Макаровна  |\n",
      "+-----------+-------------------------------+------------------------------------------------------------------+--------------------+----------+------------+--------------+-----------+------------+\n",
      "|        50 | Евстафий Ефстафьевич Макаров  | к. Минеральные Воды, ул. Индустриальная, д. 335 стр. 862, 912273 | 8 638 265 04 10    |    80034 |         24 | Ефстафьевич  | Евстафий  | Макаров    |\n",
      "+-----------+-------------------------------+------------------------------------------------------------------+--------------------+----------+------------+--------------+-----------+------------+\n",
      "|        51 | Азарий Измаилович Сорокин     | к. Каргасок, наб. Совхозная, д. 498, 666167                      | 83430126658        |   121856 |          6 | Измаилович   | Азарий    | Сорокин    |\n",
      "+-----------+-------------------------------+------------------------------------------------------------------+--------------------+----------+------------+--------------+-----------+------------+\n"
     ]
    }
   ],
   "source": [
    "try:\n",
    "    # получаем последнюю запись \n",
    "    agentToDelete = session.query(Agent).order_by(Agent.idAgent.desc()).first()\n",
    "    \n",
    "    if agentToDelete:\n",
    "        session.delete(agentToDelete)\n",
    "        session.commit()\n",
    "        print(f\"Последняя запись из таблицы Agent успешно удалена (ID: {agentToDelete.idAgent}).\")\n",
    "    else:\n",
    "        print(\"В таблице Agent нет записей для удаления.\")\n",
    "\n",
    "    printLastRecords(Agent, 5)\n",
    "    session.close()\n",
    "\n",
    "except SQLAlchemyError as e:\n",
    "    session.rollback()\n",
    "    print(f\"Ошибка при удалении записи из таблицы Agent: {e}\")"
   ]
  },
  {
   "cell_type": "markdown",
   "id": "7c2a1c48",
   "metadata": {},
   "source": [
    "<h4>6 Создание и выполнение сложных запросов на выборку</h4>"
   ]
  },
  {
   "cell_type": "markdown",
   "id": "a8c422a5",
   "metadata": {},
   "source": [
    "Группировка договоров по агентам по определеному типу страхования в порядке убывания общей суммы договора "
   ]
  },
  {
   "cell_type": "code",
   "execution_count": 21,
   "id": "8164c318",
   "metadata": {},
   "outputs": [
    {
     "name": "stdout",
     "output_type": "stream",
     "text": [
      "\n",
      "Договоры по типу 'Автострахование':\n",
      "+------------------------+------------------------------+--------------------+------------------+--------------+-------------------+\n",
      "| Наименование филиала   | ФИО агента                   | Номер телефона     |   Сумма договора |   ID филиала | Тип страхования   |\n",
      "+========================+==============================+====================+==================+==============+===================+\n",
      "| Сбер-страхование (3)   | Зинаида Ефимовна Ширяева     | 8 363 443 1415     |        887960.74 |           18 | Автострахование   |\n",
      "+------------------------+------------------------------+--------------------+------------------+--------------+-------------------+\n",
      "| ВСК (7)                | Елена Федоровна Орехова      | +7 302 560 2803    |        823111.40 |           22 | Автострахование   |\n",
      "+------------------------+------------------------------+--------------------+------------------+--------------+-------------------+\n",
      "| ИНГОССТРАХ             | Казаков Ипатий Игоревич      | 8 981 357 96 02    |        772227.75 |            8 | Автострахование   |\n",
      "+------------------------+------------------------------+--------------------+------------------+--------------+-------------------+\n",
      "| ИНГОССТРАХ             | Казаков Ипатий Игоревич      | 8 981 357 96 02    |        738367.67 |            8 | Автострахование   |\n",
      "+------------------------+------------------------------+--------------------+------------------+--------------+-------------------+\n",
      "| ИНГОССТРАХ             | Казаков Ипатий Игоревич      | 8 981 357 96 02    |        736668.75 |            8 | Автострахование   |\n",
      "+------------------------+------------------------------+--------------------+------------------+--------------+-------------------+\n",
      "| Страховая контора      | Вячеслав Арсенович Ефимов    | +7 868 026 6772    |        671913.64 |            6 | Автострахование   |\n",
      "+------------------------+------------------------------+--------------------+------------------+--------------+-------------------+\n",
      "| Страховая контора (2)  | Дементий Давидович Баранов   | +7 026 060 0204    |        564242.89 |           13 | Автострахование   |\n",
      "+------------------------+------------------------------+--------------------+------------------+--------------+-------------------+\n",
      "| Сбер-страхование (6)   | Панова Екатерина Макаровна   | +7 (253) 400-82-19 |        536409.92 |           30 | Автострахование   |\n",
      "+------------------------+------------------------------+--------------------+------------------+--------------+-------------------+\n",
      "| Сбер-страхование (6)   | Козлов Иосиф Марсович        | 8 (961) 365-39-85  |        423751.19 |           30 | Автострахование   |\n",
      "+------------------------+------------------------------+--------------------+------------------+--------------+-------------------+\n",
      "| СОГАЗ (4)              | Евстафий Ефстафьевич Макаров | 8 638 265 04 10    |        411181.64 |           24 | Автострахование   |\n",
      "+------------------------+------------------------------+--------------------+------------------+--------------+-------------------+\n"
     ]
    }
   ],
   "source": [
    "# Функция для получения договоров по определенному типу страхования\n",
    "def getBelaysByInsuranceType(session, insurance_type):\n",
    "    result = (\n",
    "        session.query(\n",
    "            Belay,\n",
    "            Agent.fullName,  \n",
    "            Agent.phoneNumber,  \n",
    "            Filial.title  \n",
    "        )\n",
    "        .join(Agent, Agent.idAgent == Belay.idAgent)  \n",
    "        .join(Filial, Filial.idFilial == Belay.idFilial)  \n",
    "        .filter(Belay.insureType == insurance_type)\n",
    "        .order_by(Belay.totalAmount.desc())\n",
    "        .all()\n",
    "    )\n",
    "    return result\n",
    "\n",
    "try:\n",
    "    result = getBelaysByInsuranceType(session, \"Автострахование\")\n",
    "\n",
    "    # Подготавливаем данные для таблицы\n",
    "    table_data = []\n",
    "    for belay, agent_name, phone, filial_name in result:\n",
    "        table_data.append([\n",
    "            filial_name,        # Наименование фирмы (филиала)\n",
    "            agent_name,         # ФИО агента\n",
    "            phone,              # Номер телефона\n",
    "            belay.totalAmount,  # Сумма договора\n",
    "            belay.idFilial,     # ID филиала\n",
    "            belay.insureType    # Тип страхования\n",
    "        ])\n",
    "    \n",
    "    headers = [\"Наименование филиала\", \"ФИО агента\", \"Номер телефона\", \"Сумма договора\", \"ID филиала\", \"Тип страхования\"]\n",
    "        \n",
    "    print(f\"\\nДоговоры по типу 'Автострахование':\")\n",
    "    print(tabulate(table_data[:10], headers=headers, tablefmt=\"grid\", floatfmt=\".2f\"))\n",
    "\n",
    "except SQLAlchemyError as e:\n",
    "    print(\"Произошла ошибка при выполнении запроса:\")\n",
    "    print(str(e))\n",
    "\n",
    "except Exception as e:\n",
    "    print(\"Произошла ошибка:\")\n",
    "    print(str(e))\n",
    "\n",
    "finally:\n",
    "    session.close()"
   ]
  },
  {
   "cell_type": "markdown",
   "id": "3b067d71",
   "metadata": {},
   "source": [
    "Получение количества договоров и общей суммы договоров по каждому агенту"
   ]
  },
  {
   "cell_type": "code",
   "execution_count": 22,
   "id": "0530f3df",
   "metadata": {},
   "outputs": [
    {
     "name": "stdout",
     "output_type": "stream",
     "text": [
      "\n",
      "Статистика по агентам:\n",
      "+----+-------------------------------+------------------------+----------------------+\n",
      "|    | ФИО агента                    |   Количество договоров |   Общая сумма продаж |\n",
      "+====+===============================+========================+======================+\n",
      "| 12 | Ульяна Владиславовна Быкова   |                      7 |           4511937.70 |\n",
      "+----+-------------------------------+------------------------+----------------------+\n",
      "| 26 | Попов Влас Игнатьевич         |                      7 |           4128358.12 |\n",
      "+----+-------------------------------+------------------------+----------------------+\n",
      "|  2 | Кира Филипповна Калинина      |                      6 |           3885205.10 |\n",
      "+----+-------------------------------+------------------------+----------------------+\n",
      "| 41 | Вячеслав Арсенович Ефимов     |                      7 |           3682362.58 |\n",
      "+----+-------------------------------+------------------------+----------------------+\n",
      "| 37 | Субботин Пахом Евсеевич       |                      5 |           3146368.09 |\n",
      "+----+-------------------------------+------------------------+----------------------+\n",
      "| 34 | Казаков Ипатий Игоревич       |                      5 |           3123418.71 |\n",
      "+----+-------------------------------+------------------------+----------------------+\n",
      "| 31 | Козлов Иосиф Марсович         |                      7 |           3033224.02 |\n",
      "+----+-------------------------------+------------------------+----------------------+\n",
      "| 25 | Нонна Семеновна Одинцова      |                      5 |           2859202.58 |\n",
      "+----+-------------------------------+------------------------+----------------------+\n",
      "|  5 | Пелагея Вениаминовна Игнатова |                      5 |           2775277.43 |\n",
      "+----+-------------------------------+------------------------+----------------------+\n",
      "| 51 | Азарий Измаилович Сорокин     |                      4 |           2547874.13 |\n",
      "+----+-------------------------------+------------------------+----------------------+\n"
     ]
    }
   ],
   "source": [
    "def getAgentsStats(session):\n",
    "    result = (\n",
    "        session.query(\n",
    "            Agent.idAgent,\n",
    "            Agent.fullName,\n",
    "            func.count(Belay.idBelay).label('contracts_count'),  # Количество договоров\n",
    "            func.sum(Belay.totalAmount).label('total_sales')     # Общая сумма\n",
    "        )\n",
    "        .join(Belay, Belay.idAgent == Agent.idAgent)\n",
    "        .group_by(Agent.idAgent, Agent.fullName)  # Группировка по агенту\n",
    "        .order_by(desc('total_sales'))  # Сортировка по сумме продаж\n",
    "        .all()\n",
    "    )\n",
    "    return result\n",
    "\n",
    "try:\n",
    "    result = getAgentsStats(session)\n",
    "\n",
    "    table_data = []\n",
    "    for agent_id, agent_name, contracts_count, total_sales in result: \n",
    "        table_data.append([\n",
    "            agent_id,\n",
    "            agent_name,         # ФИО агента\n",
    "            contracts_count,    # Количество договоров\n",
    "            total_sales         # Общая сумма продаж\n",
    "        ])\n",
    "    \n",
    "    headers = [\"ФИО агента\", \"Количество договоров\", \"Общая сумма продаж\"]\n",
    "        \n",
    "    print(f\"\\nСтатистика по агентам:\")\n",
    "    print(tabulate(table_data[:10], headers=headers, tablefmt=\"grid\", floatfmt=\".2f\"))\n",
    "\n",
    "except SQLAlchemyError as e:\n",
    "    print(\"Произошла ошибка при выполнении запроса:\")\n",
    "    print(str(e))\n",
    "\n",
    "except Exception as e:\n",
    "    print(\"Произошла ошибка:\")\n",
    "    print(str(e))\n",
    "\n",
    "finally:\n",
    "    session.close()"
   ]
  },
  {
   "cell_type": "markdown",
   "id": "b92bdb84",
   "metadata": {},
   "source": [
    "Получение статистики клиентов по возрастным группам"
   ]
  },
  {
   "cell_type": "code",
   "execution_count": 23,
   "id": "da9bac73",
   "metadata": {},
   "outputs": [
    {
     "name": "stdout",
     "output_type": "stream",
     "text": [
      "+---------------------+------------+-------------+-----------------+\n",
      "| Возрастная группа   |   Клиентов |   Договоров |   Средняя сумма |\n",
      "+=====================+============+=============+=================+\n",
      "| 18-24               |         17 |          16 |       558345.18 |\n",
      "+---------------------+------------+-------------+-----------------+\n",
      "| 25-34               |         32 |          29 |       497328.53 |\n",
      "+---------------------+------------+-------------+-----------------+\n",
      "| 35-44               |         24 |          22 |       538641.02 |\n",
      "+---------------------+------------+-------------+-----------------+\n",
      "| 45-54               |         35 |          27 |       454375.63 |\n",
      "+---------------------+------------+-------------+-----------------+\n",
      "| 55-64               |         29 |          26 |       499553.40 |\n",
      "+---------------------+------------+-------------+-----------------+\n",
      "| 65-74               |         27 |          20 |       483154.22 |\n",
      "+---------------------+------------+-------------+-----------------+\n",
      "| 75+                 |         11 |          11 |       505268.53 |\n",
      "+---------------------+------------+-------------+-----------------+\n"
     ]
    }
   ],
   "source": [
    "def get_clients_by_age_groups(session):\n",
    "    age_groups = case(\n",
    "        (Client.age < 25, \"18-24\"),\n",
    "        (Client.age < 35, \"25-34\"),\n",
    "        (Client.age < 45, \"35-44\"),\n",
    "        (Client.age < 55, \"45-54\"),\n",
    "        (Client.age < 65, \"55-64\"),\n",
    "        (Client.age < 75, \"65-74\"),\n",
    "        else_=\"75+\"\n",
    "    ).label('age_group')\n",
    "    \n",
    "    result = (\n",
    "        session.query(\n",
    "            age_groups,\n",
    "            func.count(Client.idClient).label('clients_count'),\n",
    "            func.count(Belay.idBelay).label('contracts_count'),\n",
    "            func.avg(Belay.totalAmount).label('avg_amount')\n",
    "        )\n",
    "        .join(Belay, Belay.idClient == Client.idClient, isouter=True)\n",
    "        .group_by(age_groups)\n",
    "        .order_by(age_groups)\n",
    "        .all()\n",
    "    )\n",
    "    return result\n",
    "\n",
    "result = get_clients_by_age_groups(session)\n",
    "\n",
    "table_data = []\n",
    "for group, clients, contracts, avg_amount in result: \n",
    "    table_data.append([\n",
    "        group,           # Возрастная группа\n",
    "        clients,         # Количество клиентов\n",
    "        contracts,       # Количество договоров\n",
    "        avg_amount       # Средняя сумма по договороу\n",
    "    ])\n",
    "\n",
    "headers = [\"Возрастная группа\", \"Клиентов\", \"Договоров\", \"Средняя сумма\"]\n",
    "\n",
    "print(tabulate(table_data[:10], headers=headers, tablefmt=\"grid\", floatfmt=\".2f\"))"
   ]
  },
  {
   "cell_type": "markdown",
   "id": "0251e1b8",
   "metadata": {},
   "source": [
    "Получение рейтинга филиалов по эффективности(сумма продаж на каждого агента)"
   ]
  },
  {
   "cell_type": "code",
   "execution_count": 24,
   "id": "1a024a8f",
   "metadata": {},
   "outputs": [
    {
     "name": "stdout",
     "output_type": "stream",
     "text": [
      "+-----------------------+-----------+-------------+---------------+-------------------+\n",
      "| Филиал                |   Агентов |   Договоров |   Общая сумма |   Сумма на агента |\n",
      "+=======================+===========+=============+===============+===================+\n",
      "| ВСК (6)               |         3 |           3 |    2069149.79 |         689716.60 |\n",
      "+-----------------------+-----------+-------------+---------------+-------------------+\n",
      "| ВСК (8)               |         5 |           5 |    3146368.09 |         629273.62 |\n",
      "+-----------------------+-----------+-------------+---------------+-------------------+\n",
      "| ИНГОССТРАХ            |         5 |           5 |    3123418.71 |         624683.74 |\n",
      "+-----------------------+-----------+-------------+---------------+-------------------+\n",
      "| ВСК (4)               |         3 |           3 |    1845282.52 |         615094.17 |\n",
      "+-----------------------+-----------+-------------+---------------+-------------------+\n",
      "| ИНГОССТРАХ (5)        |        40 |          40 |   24216613.44 |         605415.34 |\n",
      "+-----------------------+-----------+-------------+---------------+-------------------+\n",
      "| СОГАЗ                 |        27 |          27 |   15929726.31 |         589989.86 |\n",
      "+-----------------------+-----------+-------------+---------------+-------------------+\n",
      "| ВСК (3)               |        12 |          12 |    6739500.92 |         561625.08 |\n",
      "+-----------------------+-----------+-------------+---------------+-------------------+\n",
      "| Страховая контора (3) |         2 |           2 |    1117683.05 |         558841.52 |\n",
      "+-----------------------+-----------+-------------+---------------+-------------------+\n",
      "| ВСК (5)               |        14 |          14 |    7507249.42 |         536232.10 |\n",
      "+-----------------------+-----------+-------------+---------------+-------------------+\n",
      "| ВСК (2)               |        36 |          36 |   19138835.01 |         531634.31 |\n",
      "+-----------------------+-----------+-------------+---------------+-------------------+\n"
     ]
    }
   ],
   "source": [
    "def get_filials_efficiency(session):\n",
    "    result = (\n",
    "        session.query(\n",
    "            Filial.title,\n",
    "            func.count(Agent.idAgent).label('agents_count'),\n",
    "            func.count(Belay.idBelay).label('contracts_count'),\n",
    "            func.sum(Belay.totalAmount).label('total_amount'),\n",
    "            (func.sum(Belay.totalAmount) / func.count(Agent.idAgent)).label('amount_per_agent')\n",
    "        )\n",
    "        .join(Agent, Agent.idFilial == Filial.idFilial, isouter=True)\n",
    "        .join(Belay, Belay.idFilial == Filial.idFilial, isouter=True)\n",
    "        .group_by(Filial.idFilial, Filial.title)\n",
    "        .order_by(desc('amount_per_agent'))\n",
    "        .all()\n",
    "    )\n",
    "    return result\n",
    "\n",
    "result = get_filials_efficiency(session)\n",
    "\n",
    "table_data = []\n",
    "for title, agents, contracts, total, per_agent in result: \n",
    "    table_data.append([\n",
    "        title,           # Возрастная группа\n",
    "        agents,          # Количество агентов\n",
    "        contracts,       # Количество договоров\n",
    "        total,           # Общая сумма\n",
    "        per_agent        # Сумма на агента\n",
    "    ])\n",
    "\n",
    "headers = [\"Филиал\", \"Агентов\", \"Договоров\", \"Общая сумма\", \"Сумма на агента\"]\n",
    "\n",
    "print(tabulate(table_data[:10], headers=headers, tablefmt=\"grid\", floatfmt=\".2f\"))"
   ]
  }
 ],
 "metadata": {
  "kernelspec": {
   "display_name": "kursovic5sem",
   "language": "python",
   "name": "python3"
  },
  "language_info": {
   "codemirror_mode": {
    "name": "ipython",
    "version": 3
   },
   "file_extension": ".py",
   "mimetype": "text/x-python",
   "name": "python",
   "nbconvert_exporter": "python",
   "pygments_lexer": "ipython3",
   "version": "3.13.5"
  }
 },
 "nbformat": 4,
 "nbformat_minor": 5
}

{
 "cells": [
  {
   "cell_type": "markdown",
   "id": "d270ba94-385d-413f-b356-757634ce0bfd",
   "metadata": {},
   "source": [
    "<h1>Курсовая работа</h1>\n",
    "<h2>за 5 семестр</h2>\n",
    "<h2>по теме: \"Разработка CRUD-приложения на Python с использованием \n",
    "    SQLAlchemy ORM и SQLite\"</h2>\n",
    "<h2>Предметная область: \"Страховая компания\"</h2>\n",
    "<h3>Выполнил: студент 3-го курса гр. ПИН-221 Федоров Вячеслав</h3>"
   ]
  },
  {
   "cell_type": "markdown",
   "id": "e0ac035d-0812-4ef2-a3a6-6806499136da",
   "metadata": {},
   "source": [
    "<h4>1 Подключение к SQLite и подготовка окружения</h4>"
   ]
  },
  {
   "cell_type": "markdown",
   "id": "1d7ab159-187f-4021-b44e-ec4f0e4361b5",
   "metadata": {},
   "source": [
    "Подключение необходимых библиотек"
   ]
  },
  {
   "cell_type": "code",
   "execution_count": 8,
   "id": "aa8978bd-85f4-4670-abd3-e6bc0f45a8c1",
   "metadata": {},
   "outputs": [],
   "source": [
    "from sqlalchemy import create_engine, Column, Integer, String, ForeignKey, Date\n",
    "from sqlalchemy.orm import declarative_base, relationship, sessionmaker"
   ]
  },
  {
   "cell_type": "markdown",
   "id": "9279c72f-958e-4290-aa2b-4d593dba3894",
   "metadata": {},
   "source": [
    "Подключение к SQLite с автоматическим созданием файла БД"
   ]
  },
  {
   "cell_type": "code",
   "execution_count": 9,
   "id": "5de7771c-fa6a-450a-8eef-020e0f210258",
   "metadata": {},
   "outputs": [
    {
     "name": "stdout",
     "output_type": "stream",
     "text": [
      "Подлкючение к SQLite произведено успешно!\n"
     ]
    }
   ],
   "source": [
    "databaseName = 'insurance_company'\n",
    "\n",
    "engine = create_engine(f'sqlite:///{databaseName}.db')\n",
    "Base = declarative_base()\n",
    "Session = sessionmaker(bind=engine)\n",
    "session = Session()\n",
    "\n",
    "Base = daclarative_base()\n",
    "\n",
    "# проверка подключения\n",
    "try:\n",
    "    with engine.connect() as conn:\n",
    "        print(\"Подлкючение к SQLite произведено успешно!\")\n",
    "except Exception as e:\n",
    "    print(f\"Ошибка подключения: {e}\")"
   ]
  },
  {
   "cell_type": "code",
   "execution_count": null,
   "id": "b4abf11f-12c6-4964-9a56-a69c9c7c302c",
   "metadata": {},
   "outputs": [],
   "source": [
    "class Agent(Base):\n",
    "    __tablenamespace__ = 'agent'\n",
    "\n",
    "    idAgent = Column(Integer, primary_key=true)\n",
    "    firstName = Column(String)\n",
    "    secondName = Column(String)\n",
    "    lastName = Column(String)\n",
    "    address = Column(String)\n",
    "    phoneNumber = Column(String)\n",
    "    salary = Column(String)\n",
    "    idFilial = Column(Integer, ForeignKey('filial.id))\n",
    "    "
   ]
  }
 ],
 "metadata": {
  "kernelspec": {
   "display_name": "Python 3 (ipykernel)",
   "language": "python",
   "name": "python3"
  },
  "language_info": {
   "codemirror_mode": {
    "name": "ipython",
    "version": 3
   },
   "file_extension": ".py",
   "mimetype": "text/x-python",
   "name": "python",
   "nbconvert_exporter": "python",
   "pygments_lexer": "ipython3",
   "version": "3.13.5"
  }
 },
 "nbformat": 4,
 "nbformat_minor": 5
}
